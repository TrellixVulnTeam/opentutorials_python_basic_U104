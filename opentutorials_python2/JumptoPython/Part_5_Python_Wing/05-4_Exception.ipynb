{
 "cells": [
  {
   "cell_type": "markdown",
   "metadata": {},
   "source": [
    "# 예외 처리\n",
    "\n",
    "- 프로그램을 만들다 보면 수없이 많은 오류를 만나게 된다. 물론 오류가 발생하는 이유는 프로그램이 잘못 동작하는 것을 막기 위한 파이썬의 배려이다. 하지만 때때로 이러한 오류를 무시하고 싶을 때도 있다. \n",
    "\n",
    "- 이를 위해 파이썬은 try, except를 사용해서 예외적으로 오류를 처리할 수 있게 해준다."
   ]
  },
  {
   "cell_type": "markdown",
   "metadata": {},
   "source": [
    "## 오류는 어떤 때 발생하는가?  \n",
    "오류를 처리하는 방법을 알기 전에 어떤 상황에서 오류가 발생하는지 한번 알아보자. 오타를 입력했을 때 발생하는 구문 오류 같은 것이 아닌 실제 프로그램에서 자주 발생하는 오류를 중심으로 살펴본다.\n",
    "\n",
    "- 먼저 디렉터리 안에 없는 파일을 열려고 시도했을 때 발생하는 오류이다.\n",
    "\n",
    "#>>> f = open(\"나없는파일\", 'r')  \n",
    "Traceback (most recent call last):  \n",
    "  File \"<stdin>\", line 1, in <module>  \n",
    "FileNotFoundError: [Errno 2] No such file or directory: '나없는파일'  \n",
    "위 예에서 볼 수 있듯이 없는 파일을 열려고 시도하면 FileNotFoundError 오류가 발생한다.\n",
    "  \n",
    "  \n",
    "  \n",
    "- 이번에는 0으로 다른 숫자를 나누는 경우를 생각해 보자. 이 역시 자주 발생하는 오류이다.\n",
    "\n",
    "#>>> 4 / 0  \n",
    "Traceback (most recent call last):  \n",
    "  File \"<stdin>\", line 1, in <module>\n",
    "ZeroDivisionError: division by zero  \n",
    "4를 0으로 나누려니까 ZeroDivisionError 오류가 발생한다.\n",
    "      \n",
    "      \n",
    "  \n",
    "- 마지막으로 한 가지 예를 더 들어 보자. 다음 오류는 정말 빈번하게 일어난다.\n",
    "\n",
    "#>>> a = [1,2,3]  \n",
    "#>>> a[4]  \n",
    "Traceback (most recent call last):\n",
    "  File \"<stdin>\", line 1, in <module>\n",
    "IndexError: list index out of range  \n",
    "a는 리스트 [1, 2, 3]인데 a[4]는 a 리스트에서 얻을 수 없는 값이다. 따라서 IndexError 오류가 발생한다. 파이썬은 이런 오류가 발생하면 프로그램을 중단하고 오류 메시지를 보여 준다."
   ]
  },
  {
   "cell_type": "markdown",
   "metadata": {},
   "source": [
    "##  오류 예외 처리 기법"
   ]
  },
  {
   "cell_type": "markdown",
   "metadata": {},
   "source": [
    "### try, except 문\n",
    "\n",
    "- 다음은 오류 처리를 위한 try, except문의 기본 구조이다.\n",
    "\n",
    "try:  \n",
    "    ...  \n",
    "except [발생 오류[as 오류 메시지 변수]]:  \n",
    "    ...\n",
    "    \n",
    "try 블록 수행 중 오류가 발생하면 except 블록이 수행된다. 하지만 try 블록에서 오류가 발생하지 않는다면 except 블록은 수행되지 않는다.\n",
    "\n",
    "위 구문을 보면 [ ] 기호를 사용하는데, 이 기호는 괄호 안의 내용을 생략할 수 있다는 관례 표기법이다. 즉 except 구문은 다음 3가지 방법으로 사용할 수 있다."
   ]
  },
  {
   "cell_type": "markdown",
   "metadata": {},
   "source": [
    "- try, except만 쓰는 방법\n",
    "\n",
    "try:  \n",
    "    ...  \n",
    "except:  \n",
    "    ...  \n",
    "이 경우는 오류 종류에 상관없이 오류가 발생하면 except 블록을 수행한다.  \n",
    "\n",
    "\n",
    "- 발생 오류만 포함한 except문  \n",
    "\n",
    "try:  \n",
    "    ...  \n",
    "except:  \n",
    "    ...    \n",
    "\n",
    "이 경우는 오류가 발생했을 때 except문에 미리 정해 놓은 오류 이름과 일치할 때만 except 블록을 수행한다는 뜻이다.  \n",
    "\n",
    "- 발생 오류와 오류 메시지 변수까지 포함한 except문  \n",
    "\n",
    "try:  \n",
    "    ...  \n",
    "except 발생 오류 as 오류 메시지 변수:  \n",
    "    ...  \n",
    "    \n",
    "이 경우는 두 번째 경우에서 오류 메시지의 내용까지 알고 싶을 때 사용하는 방법이다."
   ]
  },
  {
   "cell_type": "code",
   "execution_count": 3,
   "metadata": {
    "ExecuteTime": {
     "end_time": "2019-08-05T04:15:12.318705Z",
     "start_time": "2019-08-05T04:15:12.314746Z"
    }
   },
   "outputs": [
    {
     "name": "stdout",
     "output_type": "stream",
     "text": [
      "division by zero\n"
     ]
    }
   ],
   "source": [
    "try:\n",
    "    4/0\n",
    "except ZeroDivisionError as e:\n",
    "    print(e)\n",
    "    \n",
    "# 위처럼 4를 0으로 나누려고 하면 ZeroDivisionError가 발생하여 except 블록이 실행되고 \n",
    "# 변수 e에 담기는 오류 메시지를 다음과 같이 출력한다."
   ]
  },
  {
   "cell_type": "markdown",
   "metadata": {},
   "source": [
    "### try .. finally\n",
    "\n",
    "- try문에는 finally절을 사용할 수 있다.   \n",
    "finally절은 try문 수행 도중 예외 발생 여부에 상관없이 항상 수행된다. 보통 finally절은 사용한 리소스를 close해야 할 때에 많이 사용한다.  \n",
    "\n",
    "다음 예를 보자."
   ]
  },
  {
   "cell_type": "code",
   "execution_count": 15,
   "metadata": {
    "ExecuteTime": {
     "end_time": "2019-08-05T05:28:46.547071Z",
     "start_time": "2019-08-05T05:28:46.541082Z"
    }
   },
   "outputs": [
    {
     "ename": "IndentationError",
     "evalue": "expected an indented block (<ipython-input-15-dc8eb9d255b3>, line 5)",
     "output_type": "error",
     "traceback": [
      "\u001b[1;36m  File \u001b[1;32m\"<ipython-input-15-dc8eb9d255b3>\"\u001b[1;36m, line \u001b[1;32m5\u001b[0m\n\u001b[1;33m    finally:\u001b[0m\n\u001b[1;37m          ^\u001b[0m\n\u001b[1;31mIndentationError\u001b[0m\u001b[1;31m:\u001b[0m expected an indented block\n"
     ]
    }
   ],
   "source": [
    "f = open('foo.txt', 'w')\n",
    "try:\n",
    "    #수행할 내용\n",
    "    \n",
    "finally:\n",
    "    f.close()\n",
    "    \n",
    "# foo.txt 파일을 쓰기 모드로 연 후에 try문을 수행한 후 예외 발생 여부와 상관없이\n",
    "# finally절에서 f.close()로 열린 파일을 닫을 수 있다."
   ]
  },
  {
   "cell_type": "code",
   "execution_count": null,
   "metadata": {},
   "outputs": [],
   "source": []
  }
 ],
 "metadata": {
  "kernelspec": {
   "display_name": "Python 3",
   "language": "python",
   "name": "python3"
  },
  "language_info": {
   "codemirror_mode": {
    "name": "ipython",
    "version": 3
   },
   "file_extension": ".py",
   "mimetype": "text/x-python",
   "name": "python",
   "nbconvert_exporter": "python",
   "pygments_lexer": "ipython3",
   "version": "3.6.4"
  },
  "toc": {
   "base_numbering": 1,
   "nav_menu": {},
   "number_sections": true,
   "sideBar": true,
   "skip_h1_title": false,
   "title_cell": "Table of Contents",
   "title_sidebar": "Contents",
   "toc_cell": false,
   "toc_position": {},
   "toc_section_display": true,
   "toc_window_display": false
  },
  "varInspector": {
   "cols": {
    "lenName": 16,
    "lenType": 16,
    "lenVar": 40
   },
   "kernels_config": {
    "python": {
     "delete_cmd_postfix": "",
     "delete_cmd_prefix": "del ",
     "library": "var_list.py",
     "varRefreshCmd": "print(var_dic_list())"
    },
    "r": {
     "delete_cmd_postfix": ") ",
     "delete_cmd_prefix": "rm(",
     "library": "var_list.r",
     "varRefreshCmd": "cat(var_dic_list()) "
    }
   },
   "types_to_exclude": [
    "module",
    "function",
    "builtin_function_or_method",
    "instance",
    "_Feature"
   ],
   "window_display": false
  }
 },
 "nbformat": 4,
 "nbformat_minor": 2
}
