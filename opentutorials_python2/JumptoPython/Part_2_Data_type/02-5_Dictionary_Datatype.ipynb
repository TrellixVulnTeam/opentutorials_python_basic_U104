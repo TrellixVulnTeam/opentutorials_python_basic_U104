{
 "cells": [
  {
   "cell_type": "markdown",
   "metadata": {},
   "source": [
    "# 딕셔너리 자료형"
   ]
  },
  {
   "cell_type": "markdown",
   "metadata": {},
   "source": [
    "## 딕셔너리 란?\n",
    "\n",
    "- 사람은 누구든이 이름=홍길동, 생일= 몇월 몇일 등으로 구별할 수 있다. 파이썬은 영리하게도 이러한 대응 관계를 나타낼 수 있는 자료형을 가지고   있다. 요즘 사용하는 대부분의 언어도 이러한 대응 관계를 나타내는 자료형을 갖고 있는데, 이를 연관 배열(Associative array) 또는 해시(Hash)  \n",
    "  라고 한다. 파이썬 에서는 이러한 자료형을 딕셔너리 라고 하는데, 단어그대로 해석하면 사전이라는 뜻이다. 즉 people이라는 단어에 사람,  \n",
    "  basebll이라는 단어에 야구라는 뜻이 부합되듯이 딕셔너리는 key와 value를 한쌍으로 갖는 자료형이다.\n",
    "\n",
    "- 딕셔너리는 리스트나 튜플처럼 순차적으로 해당 요솟 값을 구하지 않고   \n",
    "  key를 통해 value를 얻는다 이것이 바로 딕셔너리의 가장 큰 특징이다. "
   ]
  },
  {
   "cell_type": "markdown",
   "metadata": {},
   "source": [
    "## 딕셔너리는 어떻게 만들까?\n",
    "\n",
    "- {key1:value1, key2:value2, key3:value3, key4:value4, .....}\n",
    "  key와 value의 쌍여러개가 {}로 둘러싸여있다. 각각의 요소는 key:value형태로 이루어지며 구분자는 , 이다."
   ]
  },
  {
   "cell_type": "code",
   "execution_count": 3,
   "metadata": {
    "ExecuteTime": {
     "end_time": "2019-08-02T06:11:51.883875Z",
     "start_time": "2019-08-02T06:11:51.879886Z"
    }
   },
   "outputs": [],
   "source": [
    "dic={'name':'pey','phone':'01012345678','birth':'191231'} # 선언 방법\n",
    "\n",
    "# key로 정수값, 문자열, 문자를 사용가능하고 \n",
    "# value로 정수값, 문자열, 문자, 리스트, 를 사용가능하다."
   ]
  },
  {
   "cell_type": "markdown",
   "metadata": {},
   "source": [
    "## 딕셔너리 쌍 추가, 삭제하기"
   ]
  },
  {
   "cell_type": "code",
   "execution_count": 4,
   "metadata": {
    "ExecuteTime": {
     "end_time": "2019-08-02T06:12:15.450851Z",
     "start_time": "2019-08-02T06:12:15.447860Z"
    }
   },
   "outputs": [],
   "source": [
    "a={1:'a'}"
   ]
  },
  {
   "cell_type": "code",
   "execution_count": 5,
   "metadata": {
    "ExecuteTime": {
     "end_time": "2019-08-02T06:12:34.569975Z",
     "start_time": "2019-08-02T06:12:34.566946Z"
    }
   },
   "outputs": [],
   "source": [
    "# 쌍 추가하기\n",
    "a[2]='b'"
   ]
  },
  {
   "cell_type": "code",
   "execution_count": 6,
   "metadata": {
    "ExecuteTime": {
     "end_time": "2019-08-02T06:12:40.775224Z",
     "start_time": "2019-08-02T06:12:40.767246Z"
    }
   },
   "outputs": [
    {
     "data": {
      "text/plain": [
       "{1: 'a', 2: 'b'}"
      ]
     },
     "execution_count": 6,
     "metadata": {},
     "output_type": "execute_result"
    }
   ],
   "source": [
    "a"
   ]
  },
  {
   "cell_type": "code",
   "execution_count": 7,
   "metadata": {
    "ExecuteTime": {
     "end_time": "2019-08-02T06:13:14.587462Z",
     "start_time": "2019-08-02T06:13:14.584436Z"
    }
   },
   "outputs": [
    {
     "data": {
      "text/plain": [
       "{1: 'a', 2: 'b', 'name': 'dong'}"
      ]
     },
     "execution_count": 7,
     "metadata": {},
     "output_type": "execute_result"
    }
   ],
   "source": [
    "a['name']='dong'\n",
    "a"
   ]
  },
  {
   "cell_type": "code",
   "execution_count": 8,
   "metadata": {
    "ExecuteTime": {
     "end_time": "2019-08-02T06:13:39.436088Z",
     "start_time": "2019-08-02T06:13:39.432099Z"
    }
   },
   "outputs": [
    {
     "data": {
      "text/plain": [
       "{1: 'a', 2: 'b', 3: [1, 2, 3], 'name': 'dong'}"
      ]
     },
     "execution_count": 8,
     "metadata": {},
     "output_type": "execute_result"
    }
   ],
   "source": [
    "a[3]=[1,2,3]\n",
    "a"
   ]
  },
  {
   "cell_type": "code",
   "execution_count": 9,
   "metadata": {
    "ExecuteTime": {
     "end_time": "2019-08-02T06:14:36.083649Z",
     "start_time": "2019-08-02T06:14:36.079646Z"
    }
   },
   "outputs": [],
   "source": [
    "# 쌍 삭제하기\n",
    "del a[1] # 딕셔너리 요소 삭제"
   ]
  },
  {
   "cell_type": "code",
   "execution_count": 10,
   "metadata": {
    "ExecuteTime": {
     "end_time": "2019-08-02T06:14:39.252181Z",
     "start_time": "2019-08-02T06:14:39.247230Z"
    }
   },
   "outputs": [
    {
     "data": {
      "text/plain": [
       "{2: 'b', 3: [1, 2, 3], 'name': 'dong'}"
      ]
     },
     "execution_count": 10,
     "metadata": {},
     "output_type": "execute_result"
    }
   ],
   "source": [
    "a"
   ]
  },
  {
   "cell_type": "code",
   "execution_count": 11,
   "metadata": {
    "ExecuteTime": {
     "end_time": "2019-08-02T06:14:51.058826Z",
     "start_time": "2019-08-02T06:14:50.599874Z"
    }
   },
   "outputs": [
    {
     "ename": "NameError",
     "evalue": "name 'a' is not defined",
     "output_type": "error",
     "traceback": [
      "\u001b[1;31m---------------------------------------------------------------------------\u001b[0m",
      "\u001b[1;31mNameError\u001b[0m                                 Traceback (most recent call last)",
      "\u001b[1;32m<ipython-input-11-88f0dc819981>\u001b[0m in \u001b[0;36m<module>\u001b[1;34m()\u001b[0m\n\u001b[0;32m      1\u001b[0m \u001b[1;32mdel\u001b[0m \u001b[0ma\u001b[0m\u001b[1;33m\u001b[0m\u001b[0m\n\u001b[1;32m----> 2\u001b[1;33m \u001b[0ma\u001b[0m\u001b[1;33m\u001b[0m\u001b[0m\n\u001b[0m",
      "\u001b[1;31mNameError\u001b[0m: name 'a' is not defined"
     ]
    }
   ],
   "source": [
    "del a # 딕셔너리 자체를 삭제\n",
    "a"
   ]
  },
  {
   "cell_type": "markdown",
   "metadata": {},
   "source": [
    "## 딕셔너리를 사용하는 방법"
   ]
  },
  {
   "cell_type": "markdown",
   "metadata": {},
   "source": [
    "### 딕셔너리에서 Key 사용해 Value 얻기\n",
    "\n",
    "- dictionary_name[key]"
   ]
  },
  {
   "cell_type": "code",
   "execution_count": 13,
   "metadata": {
    "ExecuteTime": {
     "end_time": "2019-08-02T06:16:42.766506Z",
     "start_time": "2019-08-02T06:16:42.761523Z"
    }
   },
   "outputs": [
    {
     "data": {
      "text/plain": [
       "10"
      ]
     },
     "execution_count": 13,
     "metadata": {},
     "output_type": "execute_result"
    }
   ],
   "source": [
    "grade={'pey':10,'juliet':99}\n",
    "grade['pey']"
   ]
  },
  {
   "cell_type": "code",
   "execution_count": 14,
   "metadata": {
    "ExecuteTime": {
     "end_time": "2019-08-02T06:16:54.579302Z",
     "start_time": "2019-08-02T06:16:54.575313Z"
    }
   },
   "outputs": [
    {
     "data": {
      "text/plain": [
       "99"
      ]
     },
     "execution_count": 14,
     "metadata": {},
     "output_type": "execute_result"
    }
   ],
   "source": [
    "grade['juliet']"
   ]
  },
  {
   "cell_type": "markdown",
   "metadata": {},
   "source": [
    "### 딕셔너리 만들 때 주의 사항\n",
    "\n",
    "- key는 고유한 값이므로 중복되는 Key 값을 설정해 놓으면 하나를 제회한 나머지 것들이 모두 무시된다는 점을 주의 해야한다.\n",
    "\n",
    "- key에는 리스트를 쓸 수 없다. 그러나 튜플은 가능하다.즉, key가 변하는 값인지 변하지 않는 값인지에 달려잇다. 변할 수 있는 값은 key로 쓸 수 없다."
   ]
  },
  {
   "cell_type": "code",
   "execution_count": 15,
   "metadata": {
    "ExecuteTime": {
     "end_time": "2019-08-02T06:19:31.571844Z",
     "start_time": "2019-08-02T06:19:31.567817Z"
    }
   },
   "outputs": [
    {
     "data": {
      "text/plain": [
       "'b'"
      ]
     },
     "execution_count": 15,
     "metadata": {},
     "output_type": "execute_result"
    }
   ],
   "source": [
    "a={1:'a',1:'b'} # <- 첫 번째 1:'a' 쌍이 무시됨\n",
    "a[1]"
   ]
  },
  {
   "cell_type": "markdown",
   "metadata": {},
   "source": [
    "### 딕셔너리 관련 함수"
   ]
  },
  {
   "cell_type": "markdown",
   "metadata": {},
   "source": [
    "- key리스트 만들기 dict_name.keys()   \n",
    "해당 딕셔너리의 key만 모아서 dict_keys(['key1','key2','key3']) 객체를 돌려준다."
   ]
  },
  {
   "cell_type": "code",
   "execution_count": 16,
   "metadata": {
    "ExecuteTime": {
     "end_time": "2019-08-02T06:47:24.965347Z",
     "start_time": "2019-08-02T06:47:24.961361Z"
    }
   },
   "outputs": [
    {
     "data": {
      "text/plain": [
       "dict_keys(['name', 'phone', 'birth'])"
      ]
     },
     "execution_count": 16,
     "metadata": {},
     "output_type": "execute_result"
    }
   ],
   "source": [
    "a={'name':'pey','phone':'01012345678','birth':'191231'}\n",
    "a.keys()"
   ]
  },
  {
   "cell_type": "code",
   "execution_count": 17,
   "metadata": {
    "ExecuteTime": {
     "end_time": "2019-08-02T06:48:36.669582Z",
     "start_time": "2019-08-02T06:48:36.665632Z"
    }
   },
   "outputs": [
    {
     "data": {
      "text/plain": [
       "'bar'"
      ]
     },
     "execution_count": 17,
     "metadata": {},
     "output_type": "execute_result"
    }
   ],
   "source": [
    "# 딕셔너리 안에 찾으려는 Key값이 없을 경우가 되었을 때 디폴트 값을 대신 가져오게 하는법\n",
    "a.get('foo', 'bar') # dict_name.get(x, '디폴트_값)\n",
    "# a 딕셔너리에는 foo에 해당하는 값이 없다. 따라서  디폴트 값인 bar를 돌려준다."
   ]
  },
  {
   "cell_type": "markdown",
   "metadata": {},
   "source": [
    "- 해당 Key가 딕셔너리  안에 있는지 조사하기 Key in dict_name"
   ]
  },
  {
   "cell_type": "code",
   "execution_count": 18,
   "metadata": {
    "ExecuteTime": {
     "end_time": "2019-08-02T06:51:22.997243Z",
     "start_time": "2019-08-02T06:51:22.993254Z"
    }
   },
   "outputs": [
    {
     "data": {
      "text/plain": [
       "True"
      ]
     },
     "execution_count": 18,
     "metadata": {},
     "output_type": "execute_result"
    }
   ],
   "source": [
    "'name' in a"
   ]
  },
  {
   "cell_type": "code",
   "execution_count": 19,
   "metadata": {
    "ExecuteTime": {
     "end_time": "2019-08-02T06:51:31.276383Z",
     "start_time": "2019-08-02T06:51:31.273396Z"
    }
   },
   "outputs": [
    {
     "data": {
      "text/plain": [
       "False"
      ]
     },
     "execution_count": 19,
     "metadata": {},
     "output_type": "execute_result"
    }
   ],
   "source": [
    "'email' in a"
   ]
  }
 ],
 "metadata": {
  "kernelspec": {
   "display_name": "Python 3",
   "language": "python",
   "name": "python3"
  },
  "language_info": {
   "codemirror_mode": {
    "name": "ipython",
    "version": 3
   },
   "file_extension": ".py",
   "mimetype": "text/x-python",
   "name": "python",
   "nbconvert_exporter": "python",
   "pygments_lexer": "ipython3",
   "version": "3.6.4"
  },
  "toc": {
   "base_numbering": 1,
   "nav_menu": {},
   "number_sections": true,
   "sideBar": true,
   "skip_h1_title": false,
   "title_cell": "Table of Contents",
   "title_sidebar": "Contents",
   "toc_cell": false,
   "toc_position": {},
   "toc_section_display": true,
   "toc_window_display": false
  },
  "varInspector": {
   "cols": {
    "lenName": 16,
    "lenType": 16,
    "lenVar": 40
   },
   "kernels_config": {
    "python": {
     "delete_cmd_postfix": "",
     "delete_cmd_prefix": "del ",
     "library": "var_list.py",
     "varRefreshCmd": "print(var_dic_list())"
    },
    "r": {
     "delete_cmd_postfix": ") ",
     "delete_cmd_prefix": "rm(",
     "library": "var_list.r",
     "varRefreshCmd": "cat(var_dic_list()) "
    }
   },
   "types_to_exclude": [
    "module",
    "function",
    "builtin_function_or_method",
    "instance",
    "_Feature"
   ],
   "window_display": false
  }
 },
 "nbformat": 4,
 "nbformat_minor": 2
}
