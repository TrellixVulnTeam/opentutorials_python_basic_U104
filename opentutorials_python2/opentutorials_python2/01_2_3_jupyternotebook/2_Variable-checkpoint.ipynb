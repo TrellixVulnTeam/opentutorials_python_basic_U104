{
 "cells": [
  {
   "cell_type": "markdown",
   "metadata": {},
   "source": [
    "# 변수"
   ]
  },
  {
   "cell_type": "raw",
   "metadata": {},
   "source": [
    "변수의 기본 문법"
   ]
  },
  {
   "cell_type": "code",
   "execution_count": 2,
   "metadata": {
    "ExecuteTime": {
     "end_time": "2019-07-24T02:38:58.938117Z",
     "start_time": "2019-07-24T02:38:58.933130Z"
    }
   },
   "outputs": [
    {
     "name": "stdout",
     "output_type": "stream",
     "text": [
      "15\n",
      "Title is python\n"
     ]
    }
   ],
   "source": [
    "x=10\n",
    "y=5\n",
    "print(x+y)\n",
    "\n",
    "title = \"python\"\n",
    "print(\"Title is \"+ title)"
   ]
  },
  {
   "cell_type": "markdown",
   "metadata": {},
   "source": [
    "문자열에서 변수의 사용"
   ]
  },
  {
   "cell_type": "code",
   "execution_count": 5,
   "metadata": {
    "ExecuteTime": {
     "end_time": "2019-07-24T02:40:34.265306Z",
     "start_time": "2019-07-24T02:40:34.262338Z"
    }
   },
   "outputs": [
    {
     "name": "stdout",
     "output_type": "stream",
     "text": [
      "안녕하세요. 이동민님\n",
      "이동민님을 위한 강의를 준비했습니다.\n",
      "이동민님 꼭 참석 부탁드립니다.\n"
     ]
    }
   ],
   "source": [
    "name = \"이동민\"\n",
    "print(\"안녕하세요. \"+name+\"님\")\n",
    "print(name+\"님을 위한 강의를 준비했습니다.\")\n",
    "print(name+\"님 꼭 참석 부탁드립니다.\")"
   ]
  },
  {
   "cell_type": "markdown",
   "metadata": {},
   "source": [
    "수 계산에서의 변수의 사용"
   ]
  },
  {
   "cell_type": "code",
   "execution_count": 14,
   "metadata": {
    "ExecuteTime": {
     "end_time": "2019-07-24T02:54:01.690092Z",
     "start_time": "2019-07-24T02:54:01.684128Z"
    }
   },
   "outputs": [
    {
     "name": "stdout",
     "output_type": "stream",
     "text": [
      "20.0\n",
      "20\n",
      "0\n",
      "8\n"
     ]
    }
   ],
   "source": [
    "donation = 200 # 변수 선언 및 초기화\n",
    "student = 10\n",
    "sponsor = 100\n",
    "x=2\n",
    "\n",
    "# 계산식 -> 대입하여 계산 및 출력.\n",
    "print((donation*student)/sponsor)  # 나누기의 연산 결과를 실수형 반환.\n",
    "print((donation*student)//sponsor) # 나누기의 연산 결과를 정수형 반환.\n",
    "print((donation*student)%sponsor)  # 나누기의 나머지를 반환.\n",
    "print(x**3)                        # 좌항을 우항만큼 거듭제곱."
   ]
  }
 ],
 "metadata": {
  "kernelspec": {
   "display_name": "Python 3",
   "language": "python",
   "name": "python3"
  },
  "language_info": {
   "codemirror_mode": {
    "name": "ipython",
    "version": 3
   },
   "file_extension": ".py",
   "mimetype": "text/x-python",
   "name": "python",
   "nbconvert_exporter": "python",
   "pygments_lexer": "ipython3",
   "version": "3.6.4"
  },
  "toc": {
   "base_numbering": 1,
   "nav_menu": {},
   "number_sections": true,
   "sideBar": true,
   "skip_h1_title": false,
   "title_cell": "Table of Contents",
   "title_sidebar": "Contents",
   "toc_cell": false,
   "toc_position": {},
   "toc_section_display": true,
   "toc_window_display": false
  },
  "varInspector": {
   "cols": {
    "lenName": 16,
    "lenType": 16,
    "lenVar": 40
   },
   "kernels_config": {
    "python": {
     "delete_cmd_postfix": "",
     "delete_cmd_prefix": "del ",
     "library": "var_list.py",
     "varRefreshCmd": "print(var_dic_list())"
    },
    "r": {
     "delete_cmd_postfix": ") ",
     "delete_cmd_prefix": "rm(",
     "library": "var_list.r",
     "varRefreshCmd": "cat(var_dic_list()) "
    }
   },
   "types_to_exclude": [
    "module",
    "function",
    "builtin_function_or_method",
    "instance",
    "_Feature"
   ],
   "window_display": false
  }
 },
 "nbformat": 4,
 "nbformat_minor": 2
}
