{
 "cells": [
  {
   "cell_type": "markdown",
   "metadata": {},
   "source": [
    "# 문자와 데이터 타입."
   ]
  },
  {
   "cell_type": "code",
   "execution_count": null,
   "metadata": {},
   "outputs": [],
   "source": [
    "#문자열 String 출력"
   ]
  },
  {
   "cell_type": "code",
   "execution_count": 1,
   "metadata": {
    "ExecuteTime": {
     "end_time": "2019-07-24T01:13:23.977464Z",
     "start_time": "2019-07-24T01:13:23.974467Z"
    }
   },
   "outputs": [
    {
     "name": "stdout",
     "output_type": "stream",
     "text": [
      "Hello\n",
      "Hello\n",
      "Hello 'world'\n",
      "Hello \"world\"\n"
     ]
    }
   ],
   "source": [
    "print(\"Hello\")\n",
    "print('Hello')\n",
    "print(\"Hello 'world'\")\n",
    "print('Hello \"world\"')"
   ]
  },
  {
   "cell_type": "markdown",
   "metadata": {},
   "source": [
    " 문자열 제어1"
   ]
  },
  {
   "cell_type": "code",
   "execution_count": 3,
   "metadata": {
    "ExecuteTime": {
     "end_time": "2019-07-24T01:41:34.508023Z",
     "start_time": "2019-07-24T01:41:34.503071Z"
    }
   },
   "outputs": [
    {
     "name": "stdout",
     "output_type": "stream",
     "text": [
      "Hello world\n",
      "Hello Hello Hello \n",
      "H\n",
      "e\n",
      "l\n"
     ]
    }
   ],
   "source": [
    "print('Hello '+'world') # 연산자 +를 끼워 넣으면 두 문자열이 합쳐서 출력\n",
    "print('Hello '*3)       # 같은 문자열이 *num만큼 출력됨. \n",
    "print('Hello'[0])       # 문자열의 특정인덱스의 문자만 가져오는 법.\n",
    "print('Hello'[1])\n",
    "print('Hello'[2])"
   ]
  },
  {
   "cell_type": "markdown",
   "metadata": {},
   "source": [
    "문자열 제어2"
   ]
  },
  {
   "cell_type": "code",
   "execution_count": 7,
   "metadata": {
    "ExecuteTime": {
     "end_time": "2019-07-24T01:57:09.557378Z",
     "start_time": "2019-07-24T01:57:09.550425Z"
    }
   },
   "outputs": [
    {
     "name": "stdout",
     "output_type": "stream",
     "text": [
      "Hello world\n",
      "HELLO WORLD\n",
      "hello world\n",
      "11\n",
      "11\n",
      "Hello programming\n"
     ]
    }
   ],
   "source": [
    "print('hello world'.capitalize()) # 문자열의 첫문자를 대문자로 시작해서 보여줌\n",
    "print('hello world'.upper())      # 문자열 전부를 대문자로 변경\n",
    "print('HELLO WORLD'.lower())      # 문자열 전부를 대문자로 변경\n",
    "print('hello world'.__len__())    # 문자열의 길이를 보여줌(빈칸 포함)   \n",
    "print(len('hello world'))         # 문자열의 길이를 보여줌(빈칸 포함)\n",
    "print('Hello world'.replace('world', 'programming')) \n",
    "# replace('A','B') 문자열에서 A문자열을 B문자열로 바꿔줌"
   ]
  },
  {
   "cell_type": "markdown",
   "metadata": {},
   "source": [
    "특수 문자들"
   ]
  },
  {
   "cell_type": "code",
   "execution_count": 9,
   "metadata": {
    "ExecuteTime": {
     "end_time": "2019-07-24T02:14:42.485526Z",
     "start_time": "2019-07-24T02:14:42.479577Z"
    }
   },
   "outputs": [
    {
     "name": "stdout",
     "output_type": "stream",
     "text": [
      "egoing's \"tutorial\"\n",
      "\\\n",
      "Hello\n",
      "world\n",
      "Hello\t\tworld\n",
      "\u0007\n",
      "Hello\n",
      "world\n"
     ]
    }
   ],
   "source": [
    "# \\ = escape의 역할을 해줌. 기존의 기능에서 벗어나게 해주는 역할.\n",
    "print(\"egoing's \\\"tutorial\\\"\") # \"를 일반문자로 해석하기 위해 역슬래쉬 \\ 를 써준다.\n",
    "print(\"\\\\\")                    # \\를 일반문자로 해석하기 위해 \\\\ 를 써준다.\n",
    "\n",
    "# \\ 가 특정한 기능을 수행하기도 한다.\n",
    "print(\"Hello\\nworld\")          # \\n 은 줄바꿈 (n => new line)\n",
    "print('Hello\\nworld')          # \n",
    "print(\"Hello\\t\\tworld\")        # \\t 은 Tab 기능\n",
    "print(\"\\a\")                    # a=alert 경고음을 나게하는 기능."
   ]
  },
  {
   "cell_type": "markdown",
   "metadata": {},
   "source": [
    "문자와 숫자로 알아보는 데이터 타입."
   ]
  },
  {
   "cell_type": "code",
   "execution_count": 10,
   "metadata": {
    "ExecuteTime": {
     "end_time": "2019-07-24T02:20:50.884849Z",
     "start_time": "2019-07-24T02:20:50.879862Z"
    }
   },
   "outputs": [
    {
     "name": "stdout",
     "output_type": "stream",
     "text": [
      "15\n",
      "105\n"
     ]
    }
   ],
   "source": [
    "# 10  => 숫자 데이터\n",
    "#\"10\" => 문자 데이터\n",
    "print(10+5)     # 결과 = 15 (숫자 데이터)\n",
    "\n",
    "print(\"10\"+\"5\") # 결과 = 105 (문자 데이터)\n",
    "\n",
    "# +는 같아 보이지만 자신의 양 옆의 데이터의 타입을 보고 다르게 인식하여 동작한다.\n",
    "# 연산자 역할 or 문자 결합 역할."
   ]
  }
 ],
 "metadata": {
  "kernelspec": {
   "display_name": "Python 3",
   "language": "python",
   "name": "python3"
  },
  "language_info": {
   "codemirror_mode": {
    "name": "ipython",
    "version": 3
   },
   "file_extension": ".py",
   "mimetype": "text/x-python",
   "name": "python",
   "nbconvert_exporter": "python",
   "pygments_lexer": "ipython3",
   "version": "3.6.4"
  },
  "toc": {
   "base_numbering": 1,
   "nav_menu": {},
   "number_sections": true,
   "sideBar": true,
   "skip_h1_title": false,
   "title_cell": "Table of Contents",
   "title_sidebar": "Contents",
   "toc_cell": false,
   "toc_position": {},
   "toc_section_display": true,
   "toc_window_display": false
  },
  "varInspector": {
   "cols": {
    "lenName": 16,
    "lenType": 16,
    "lenVar": 40
   },
   "kernels_config": {
    "python": {
     "delete_cmd_postfix": "",
     "delete_cmd_prefix": "del ",
     "library": "var_list.py",
     "varRefreshCmd": "print(var_dic_list())"
    },
    "r": {
     "delete_cmd_postfix": ") ",
     "delete_cmd_prefix": "rm(",
     "library": "var_list.r",
     "varRefreshCmd": "cat(var_dic_list()) "
    }
   },
   "types_to_exclude": [
    "module",
    "function",
    "builtin_function_or_method",
    "instance",
    "_Feature"
   ],
   "window_display": false
  }
 },
 "nbformat": 4,
 "nbformat_minor": 2
}
