{
 "cells": [
  {
   "cell_type": "markdown",
   "metadata": {},
   "source": [
    "# 정규 표현식 살펴보기\n",
    "\n",
    "정규 표현식(Regular Expressions)은 복잡한 문자열을 처리할 때 사용하는 기법으로, 파이썬만의 고유 문법이 아니라 문자열을 처리하는 모든 곳에서 사용한다. 정규 표현식을 배우는 것은 파이썬을 배우는 것과는 또 다른 영역의 과제이다.\n",
    "\n",
    "※ 정규 표현식은 줄여서 간단히 \"정규식\"이라고도 말한다."
   ]
  },
  {
   "cell_type": "markdown",
   "metadata": {},
   "source": [
    "## 정규 표현식은 왜 필요한가?\n",
    "\n",
    "\n",
    "다음과 같은 문제가 주어졌다고 가정해 보자.\n",
    "\n",
    "- 주민등록번호를 포함하고 있는 텍스트가 있다. 이 텍스트에 포함된 모든 주민등록번호의 뒷자리를 * 문자로 변경해 보자.  \n",
    "\n",
    "우선 정규식을 전혀 모르면 다음과 같은 순서로 프로그램을 작성해야 할 것이다.  \n",
    "\n",
    "1. 전체 텍스트를 공백 문자로 나눈다(split).  \n",
    "2. 나뉜 단어가 주민등록번호 형식인지 조사한다.  \n",
    "3. 단어가 주민등록번호 형식이라면 뒷자리를 *로 변환한다.  \n",
    "4. 나뉜 단어를 다시 조립한다.  \n",
    "5. 이를 구현한 코드는 아마도 다음과 같을 것이다.  "
   ]
  },
  {
   "cell_type": "code",
   "execution_count": 1,
   "metadata": {
    "ExecuteTime": {
     "end_time": "2019-08-09T02:27:04.492943Z",
     "start_time": "2019-08-09T02:27:04.488955Z"
    }
   },
   "outputs": [],
   "source": [
    "data=\"\"\"\n",
    "park 800905-1049118\n",
    "kim  700905-1059119\n",
    "\"\"\"\n"
   ]
  },
  {
   "cell_type": "code",
   "execution_count": 2,
   "metadata": {
    "ExecuteTime": {
     "end_time": "2019-08-09T02:36:47.184326Z",
     "start_time": "2019-08-09T02:36:47.179338Z"
    }
   },
   "outputs": [],
   "source": [
    "result=[]"
   ]
  },
  {
   "cell_type": "code",
   "execution_count": 7,
   "metadata": {
    "ExecuteTime": {
     "end_time": "2019-08-09T03:01:50.177405Z",
     "start_time": "2019-08-09T03:01:50.165420Z"
    }
   },
   "outputs": [
    {
     "name": "stdout",
     "output_type": "stream",
     "text": [
      "\n",
      "park 800905-*******\n",
      "kim  700905-*******\n",
      "\n",
      "\n",
      "park 800905-*******\n",
      "kim  700905-*******\n",
      "\n",
      "\n",
      "park 800905-*******\n",
      "kim  700905-*******\n",
      "\n",
      "\n",
      "park 800905-*******\n",
      "kim  700905-*******\n",
      "\n",
      "['', 'park 800905-*******', 'kim  700905-*******', '', '', 'park 800905-*******', 'kim  700905-*******', '', '', 'park 800905-*******', 'kim  700905-*******', '', '', 'park 800905-*******', 'kim  700905-*******', '']\n"
     ]
    }
   ],
   "source": [
    "for line in data.split(\"\\n\"): # data의 데이터를 line별로 split 해서 line에 저장.\n",
    "    word_result=[]\n",
    "    for word in line.split(\" \"): # line에 저장된 데이터 하나 씩을 공백을 기준으로 word에 저장.\n",
    "        if len(word)==14 and word[:6].isdigit( ) and word[7:].isdigit(): \n",
    "        # 문자열 형태이더라도 숫자가 저장된 word[:6]과 word[7:]의 경우에 isdigit에서 True값이 리턴\n",
    "        # word[:6].isdigit()은 \n",
    "        # 문자열 형태에 알파벳이 저장된 경우에는 isalpha 함수에서 True 가 리턴\n",
    "        # 따라서 if문은 word중 14자리인 주민번호data이면서 숫자로이루어진 word[:6]과 word[7:]인 경우에 실행.\n",
    "            word=word[:6] + '-' +'*******' # 해당 word에 word[:6]만 그대로 넣어주고 뒤는 -와 *로 저장해줌.\n",
    "        word_result.append(word) # 이를 word_result에 확장하여 넣어줌.\n",
    "    result.append(\" \".join(word_result)) \n",
    "print(\"\\n\".join(result))\n",
    "#print(result)\n",
    "\n",
    "# list = str.split() : 문자열 => 리스트, 공백시 스페이스 기준\n",
    "# ” \".join( list ) : 리스트에서 문자열으로 index마다 공백을 줌."
   ]
  },
  {
   "cell_type": "markdown",
   "metadata": {},
   "source": [
    "결과값:  \n",
    "park 800905-*******  \n",
    "kim  700905-*******  "
   ]
  },
  {
   "cell_type": "markdown",
   "metadata": {},
   "source": [
    "- 반면에 정규식을 사용하면 다음처럼 훨씬 간편하고 직관적인 코드를 작성할 수 있다. 아직 정규식 사용 방법을 배우지 않았으니 눈으로만 살펴보자."
   ]
  },
  {
   "cell_type": "code",
   "execution_count": 8,
   "metadata": {
    "ExecuteTime": {
     "end_time": "2019-08-09T03:05:19.581603Z",
     "start_time": "2019-08-09T03:05:19.576616Z"
    }
   },
   "outputs": [
    {
     "name": "stdout",
     "output_type": "stream",
     "text": [
      "\n",
      "park 800905-*******\n",
      "kim  700905-*******\n",
      "\n"
     ]
    }
   ],
   "source": [
    "import re \n",
    "\n",
    "data = \"\"\"\n",
    "park 800905-1049118\n",
    "kim  700905-1059119\n",
    "\"\"\"\n",
    "\n",
    "pat = re.compile(\"(\\d{6})[-]\\d{7}\")\n",
    "print(pat.sub(\"\\g<1>-*******\", data))"
   ]
  },
  {
   "cell_type": "markdown",
   "metadata": {},
   "source": [
    "정규 표현식을 사용하면 이렇게 간단한 예제에서도 코드가 상당히 간결해진다.  \n",
    "만약 찾으려는 문자열 또는 바꾸어야 할 문자열의 규칙이 매우 복잡하다면 정규식의 효용은 더 커지게 된다.  \n",
    "\n",
    "이제부터 정규 표현식의 기초부터 심화 부분까지 차근차근 알아보자.  "
   ]
  },
  {
   "cell_type": "code",
   "execution_count": null,
   "metadata": {},
   "outputs": [],
   "source": []
  }
 ],
 "metadata": {
  "kernelspec": {
   "display_name": "Python 3",
   "language": "python",
   "name": "python3"
  },
  "language_info": {
   "codemirror_mode": {
    "name": "ipython",
    "version": 3
   },
   "file_extension": ".py",
   "mimetype": "text/x-python",
   "name": "python",
   "nbconvert_exporter": "python",
   "pygments_lexer": "ipython3",
   "version": "3.6.4"
  },
  "toc": {
   "base_numbering": 1,
   "nav_menu": {},
   "number_sections": true,
   "sideBar": true,
   "skip_h1_title": false,
   "title_cell": "Table of Contents",
   "title_sidebar": "Contents",
   "toc_cell": false,
   "toc_position": {},
   "toc_section_display": true,
   "toc_window_display": false
  },
  "varInspector": {
   "cols": {
    "lenName": 16,
    "lenType": 16,
    "lenVar": 40
   },
   "kernels_config": {
    "python": {
     "delete_cmd_postfix": "",
     "delete_cmd_prefix": "del ",
     "library": "var_list.py",
     "varRefreshCmd": "print(var_dic_list())"
    },
    "r": {
     "delete_cmd_postfix": ") ",
     "delete_cmd_prefix": "rm(",
     "library": "var_list.r",
     "varRefreshCmd": "cat(var_dic_list()) "
    }
   },
   "types_to_exclude": [
    "module",
    "function",
    "builtin_function_or_method",
    "instance",
    "_Feature"
   ],
   "window_display": false
  }
 },
 "nbformat": 4,
 "nbformat_minor": 2
}
