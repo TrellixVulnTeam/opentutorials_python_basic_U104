{
 "cells": [
  {
   "cell_type": "markdown",
   "metadata": {},
   "source": [
    "# 1_문자열 인덱싱과 슬라이싱"
   ]
  },
  {
   "cell_type": "markdown",
   "metadata": {},
   "source": [
    "1) 문자열 인덱싱\n",
    "\n",
    "문자열에 리스트화 하여 인덱스 번호를 매기는 것."
   ]
  },
  {
   "cell_type": "code",
   "execution_count": 1,
   "metadata": {
    "ExecuteTime": {
     "end_time": "2019-08-01T02:11:23.001561Z",
     "start_time": "2019-08-01T02:11:22.997570Z"
    }
   },
   "outputs": [],
   "source": [
    "a=\"Life is too short, you need python\""
   ]
  },
  {
   "cell_type": "code",
   "execution_count": 3,
   "metadata": {
    "ExecuteTime": {
     "end_time": "2019-08-01T02:11:50.283517Z",
     "start_time": "2019-08-01T02:11:50.273451Z"
    }
   },
   "outputs": [
    {
     "data": {
      "text/plain": [
       "'e'"
      ]
     },
     "execution_count": 3,
     "metadata": {},
     "output_type": "execute_result"
    }
   ],
   "source": [
    "a[3]"
   ]
  },
  {
   "cell_type": "code",
   "execution_count": 4,
   "metadata": {
    "ExecuteTime": {
     "end_time": "2019-08-01T02:12:15.764966Z",
     "start_time": "2019-08-01T02:12:15.760976Z"
    }
   },
   "outputs": [
    {
     "data": {
      "text/plain": [
       "'n'"
      ]
     },
     "execution_count": 4,
     "metadata": {},
     "output_type": "execute_result"
    }
   ],
   "source": [
    "a[-1]\n",
    "#=>파이썬에서 리스트의 인덱스 -1은 뒤에서 부터 세어서 첫번째 라는 뜻"
   ]
  },
  {
   "cell_type": "markdown",
   "metadata": {},
   "source": [
    "2) 문자열 슬라이싱\n",
    "\n",
    "문자열에서 하나 또는 여러문자를 뽑아내는 것."
   ]
  },
  {
   "cell_type": "code",
   "execution_count": 5,
   "metadata": {
    "ExecuteTime": {
     "end_time": "2019-08-01T02:15:51.708098Z",
     "start_time": "2019-08-01T02:15:51.704149Z"
    }
   },
   "outputs": [],
   "source": [
    "a=\"Life is too short, you need python\""
   ]
  },
  {
   "cell_type": "code",
   "execution_count": 6,
   "metadata": {
    "ExecuteTime": {
     "end_time": "2019-08-01T02:16:23.954971Z",
     "start_time": "2019-08-01T02:16:23.952015Z"
    }
   },
   "outputs": [],
   "source": [
    "b=a[0]+a[1]+a[2]+a[3]"
   ]
  },
  {
   "cell_type": "code",
   "execution_count": 7,
   "metadata": {
    "ExecuteTime": {
     "end_time": "2019-08-01T02:16:32.948935Z",
     "start_time": "2019-08-01T02:16:32.943971Z"
    }
   },
   "outputs": [
    {
     "data": {
      "text/plain": [
       "'Life'"
      ]
     },
     "execution_count": 7,
     "metadata": {},
     "output_type": "execute_result"
    }
   ],
   "source": [
    "b"
   ]
  },
  {
   "cell_type": "code",
   "execution_count": 8,
   "metadata": {
    "ExecuteTime": {
     "end_time": "2019-08-01T02:17:39.948308Z",
     "start_time": "2019-08-01T02:17:39.944316Z"
    }
   },
   "outputs": [
    {
     "data": {
      "text/plain": [
       "'Life'"
      ]
     },
     "execution_count": 8,
     "metadata": {},
     "output_type": "execute_result"
    }
   ],
   "source": [
    "a[0:4]\n",
    "# a 문자열에서 0부터 시작하여 4까지의 문자를 뽑아낸다는 의미."
   ]
  },
  {
   "cell_type": "markdown",
   "metadata": {},
   "source": [
    "- 슬라이싱으로 문자열 나누기"
   ]
  },
  {
   "cell_type": "code",
   "execution_count": 9,
   "metadata": {
    "ExecuteTime": {
     "end_time": "2019-08-01T02:19:56.803457Z",
     "start_time": "2019-08-01T02:19:56.800465Z"
    }
   },
   "outputs": [],
   "source": [
    "a = \"20190801Rainy\""
   ]
  },
  {
   "cell_type": "code",
   "execution_count": 10,
   "metadata": {
    "ExecuteTime": {
     "end_time": "2019-08-01T02:20:13.084732Z",
     "start_time": "2019-08-01T02:20:13.079428Z"
    }
   },
   "outputs": [],
   "source": [
    "date=a[:8]\n",
    "# 0부터 시작할 경우 0은 생략가능"
   ]
  },
  {
   "cell_type": "code",
   "execution_count": 11,
   "metadata": {
    "ExecuteTime": {
     "end_time": "2019-08-01T02:21:26.748181Z",
     "start_time": "2019-08-01T02:21:26.744189Z"
    }
   },
   "outputs": [],
   "source": [
    "weather=a[8:]\n",
    "# 임의의 시작점부터 문자열 끝까지 출력하는 경우 끝번호 생략가능."
   ]
  },
  {
   "cell_type": "code",
   "execution_count": 12,
   "metadata": {
    "ExecuteTime": {
     "end_time": "2019-08-01T02:21:34.355162Z",
     "start_time": "2019-08-01T02:21:34.352132Z"
    }
   },
   "outputs": [
    {
     "data": {
      "text/plain": [
       "'20190801'"
      ]
     },
     "execution_count": 12,
     "metadata": {},
     "output_type": "execute_result"
    }
   ],
   "source": [
    "date"
   ]
  },
  {
   "cell_type": "code",
   "execution_count": 14,
   "metadata": {
    "ExecuteTime": {
     "end_time": "2019-08-01T02:21:43.003573Z",
     "start_time": "2019-08-01T02:21:43.000547Z"
    }
   },
   "outputs": [
    {
     "data": {
      "text/plain": [
       "'Rainy'"
      ]
     },
     "execution_count": 14,
     "metadata": {},
     "output_type": "execute_result"
    }
   ],
   "source": [
    "weather"
   ]
  },
  {
   "cell_type": "markdown",
   "metadata": {
    "ExecuteTime": {
     "end_time": "2019-08-01T02:22:44.036391Z",
     "start_time": "2019-08-01T02:22:44.032401Z"
    }
   },
   "source": [
    "a 문자열을 date 와  weather이라는 두 리스트로 나누어 저장하였다.\n",
    "\n",
    "\n",
    "\n",
    "\n",
    "\n"
   ]
  },
  {
   "cell_type": "markdown",
   "metadata": {},
   "source": [
    "3) 문자열 포매팅\n",
    "\n",
    "문자열 포매팅이란 문자열 안에 어떤 값을 삽입하는 방법이다."
   ]
  },
  {
   "cell_type": "code",
   "execution_count": 16,
   "metadata": {
    "ExecuteTime": {
     "end_time": "2019-08-01T02:33:34.179933Z",
     "start_time": "2019-08-01T02:33:34.175957Z"
    }
   },
   "outputs": [
    {
     "data": {
      "text/plain": [
       "'I eat 3 apples.'"
      ]
     },
     "execution_count": 16,
     "metadata": {},
     "output_type": "execute_result"
    }
   ],
   "source": [
    "# 1. 숫자 대입\n",
    "\"I eat %d apples.\" %3"
   ]
  },
  {
   "cell_type": "code",
   "execution_count": 18,
   "metadata": {
    "ExecuteTime": {
     "end_time": "2019-08-01T02:34:25.414333Z",
     "start_time": "2019-08-01T02:34:25.410310Z"
    }
   },
   "outputs": [
    {
     "data": {
      "text/plain": [
       "'I eat five apples.'"
      ]
     },
     "execution_count": 18,
     "metadata": {},
     "output_type": "execute_result"
    }
   ],
   "source": [
    "# 2. 문자열 대입\n",
    "\"I eat %s apples.\" %\"five\""
   ]
  },
  {
   "cell_type": "code",
   "execution_count": 19,
   "metadata": {
    "ExecuteTime": {
     "end_time": "2019-08-01T02:35:02.507424Z",
     "start_time": "2019-08-01T02:35:02.503359Z"
    }
   },
   "outputs": [
    {
     "data": {
      "text/plain": [
       "'I eat 3 apples.'"
      ]
     },
     "execution_count": 19,
     "metadata": {},
     "output_type": "execute_result"
    }
   ],
   "source": [
    "# 숫자 값을 나타내는 변수로 대입\n",
    "number=3\n",
    "\"I eat %d apples.\" %number"
   ]
  },
  {
   "cell_type": "code",
   "execution_count": 20,
   "metadata": {
    "ExecuteTime": {
     "end_time": "2019-08-01T02:36:02.284680Z",
     "start_time": "2019-08-01T02:36:02.279724Z"
    }
   },
   "outputs": [
    {
     "data": {
      "text/plain": [
       "'I eat 10 apples. so I was sick for three days.'"
      ]
     },
     "execution_count": 20,
     "metadata": {},
     "output_type": "execute_result"
    }
   ],
   "source": [
    "# 2개 이상의 값 넣기\n",
    "number=10\n",
    "day='three'\n",
    "\"I eat %d apples. so I was sick for %s days.\" %(number, day)"
   ]
  },
  {
   "cell_type": "markdown",
   "metadata": {},
   "source": [
    "- 문자열 포맷 코드\n",
    "\n",
    "%s => 문자열:String  \n",
    "%c => 문자1개 : Chrarater  \n",
    "%d => 정수 : integer  \n",
    "%f => 부동소수 : Floating-point  \n",
    "%o => 8진수   \n",
    "%x => 16진수  \n",
    "%% => Literall %(문자 '%' 자체를 문자로 나타내고 싶을 때 사용)  "
   ]
  },
  {
   "cell_type": "markdown",
   "metadata": {},
   "source": [
    "4) 포맷 코드와 숫자 함께 사용하기"
   ]
  },
  {
   "cell_type": "markdown",
   "metadata": {},
   "source": [
    "- 정렬 과 공백"
   ]
  },
  {
   "cell_type": "code",
   "execution_count": 21,
   "metadata": {
    "ExecuteTime": {
     "end_time": "2019-08-01T02:44:20.668476Z",
     "start_time": "2019-08-01T02:44:20.663497Z"
    }
   },
   "outputs": [
    {
     "data": {
      "text/plain": [
       "'        hi'"
      ]
     },
     "execution_count": 21,
     "metadata": {},
     "output_type": "execute_result"
    }
   ],
   "source": [
    "# 오른쪽 정렬\n",
    "# 전체 길이가 10개인 문자열 공간에서 대입되는 값을 오른쪽으로 정렬 한 후\n",
    "# 그 앞의 나머지 공백은 남겨두라는 의미\n",
    "\"%10s\" %'hi'\n"
   ]
  },
  {
   "cell_type": "markdown",
   "metadata": {},
   "source": [
    "- 소수점 표현하기"
   ]
  },
  {
   "cell_type": "code",
   "execution_count": 23,
   "metadata": {
    "ExecuteTime": {
     "end_time": "2019-08-01T02:47:16.355151Z",
     "start_time": "2019-08-01T02:47:16.350165Z"
    }
   },
   "outputs": [
    {
     "data": {
      "text/plain": [
       "'3.1416'"
      ]
     },
     "execution_count": 23,
     "metadata": {},
     "output_type": "execute_result"
    }
   ],
   "source": [
    "# 소주점 네 번째 자리까지만 나타내고 싶은 경우 => \"오른쪽정렬인자.소수점뒤_숫자개수\"\n",
    "\"%0.4f\" %3.141592"
   ]
  },
  {
   "cell_type": "code",
   "execution_count": 24,
   "metadata": {
    "ExecuteTime": {
     "end_time": "2019-08-01T02:47:20.995755Z",
     "start_time": "2019-08-01T02:47:20.990777Z"
    }
   },
   "outputs": [
    {
     "data": {
      "text/plain": [
       "'    3.1416'"
      ]
     },
     "execution_count": 24,
     "metadata": {},
     "output_type": "execute_result"
    }
   ],
   "source": [
    "\"%10.4f\" %3.141592 "
   ]
  },
  {
   "cell_type": "markdown",
   "metadata": {},
   "source": [
    "- .format() 함수를 이용한 포매팅"
   ]
  },
  {
   "cell_type": "code",
   "execution_count": 25,
   "metadata": {
    "ExecuteTime": {
     "end_time": "2019-08-01T02:48:37.018815Z",
     "start_time": "2019-08-01T02:48:37.013830Z"
    }
   },
   "outputs": [
    {
     "data": {
      "text/plain": [
       "'I eat 3 apples.'"
      ]
     },
     "execution_count": 25,
     "metadata": {},
     "output_type": "execute_result"
    }
   ],
   "source": [
    "# 1. 숫자 대입\n",
    "\"I eat {0} apples.\" .format(3)"
   ]
  },
  {
   "cell_type": "code",
   "execution_count": 26,
   "metadata": {
    "ExecuteTime": {
     "end_time": "2019-08-01T02:49:01.586528Z",
     "start_time": "2019-08-01T02:49:01.582528Z"
    }
   },
   "outputs": [
    {
     "data": {
      "text/plain": [
       "'I eat five apples.'"
      ]
     },
     "execution_count": 26,
     "metadata": {},
     "output_type": "execute_result"
    }
   ],
   "source": [
    "# 2. 문자열 대입\n",
    "\"I eat {0} apples.\" .format(\"five\")"
   ]
  },
  {
   "cell_type": "code",
   "execution_count": 27,
   "metadata": {
    "ExecuteTime": {
     "end_time": "2019-08-01T02:49:42.675344Z",
     "start_time": "2019-08-01T02:49:42.670363Z"
    }
   },
   "outputs": [
    {
     "data": {
      "text/plain": [
       "'I eat 30 apples.'"
      ]
     },
     "execution_count": 27,
     "metadata": {},
     "output_type": "execute_result"
    }
   ],
   "source": [
    "# 3. 숫자 값을 가진 변수 대입\n",
    "number=30\n",
    "\"I eat {0} apples.\" .format(number)"
   ]
  },
  {
   "cell_type": "code",
   "execution_count": 28,
   "metadata": {
    "ExecuteTime": {
     "end_time": "2019-08-01T02:51:43.707411Z",
     "start_time": "2019-08-01T02:51:43.702422Z"
    }
   },
   "outputs": [
    {
     "data": {
      "text/plain": [
       "'I eat 30 apples. so I was sick for three days.'"
      ]
     },
     "execution_count": 28,
     "metadata": {},
     "output_type": "execute_result"
    }
   ],
   "source": [
    "# 4. 2개 이상의 값 넣기\n",
    "number=30\n",
    "day = 'three'\n",
    "\"I eat {0} apples. so I was sick for {1} days.\" .format(number, day)\n",
    "# 2개이상의 값으 넣을 경우 answkdufdml {0},{1}과 같은 인덱스 항목이 format 함수의 입력 값으로 순서에 맞게 대입 된다.\n"
   ]
  },
  {
   "cell_type": "code",
   "execution_count": 30,
   "metadata": {
    "ExecuteTime": {
     "end_time": "2019-08-01T02:53:21.426474Z",
     "start_time": "2019-08-01T02:53:21.421487Z"
    }
   },
   "outputs": [
    {
     "data": {
      "text/plain": [
       "'I eat 10 apples. so I was sick for five days.'"
      ]
     },
     "execution_count": 30,
     "metadata": {},
     "output_type": "execute_result"
    }
   ],
   "source": [
    "# 5. 이름으로 넣기\n",
    "\"I eat {number} apples. so I was sick for {day} days.\" .format(number=10, day='five')\n",
    "# { name} 형태로 값을 대입할 경우 format함수에는 반드시 name=value와 같은 형태의 입력값이 있어야 한다."
   ]
  },
  {
   "cell_type": "code",
   "execution_count": 35,
   "metadata": {
    "ExecuteTime": {
     "end_time": "2019-08-01T03:00:45.857260Z",
     "start_time": "2019-08-01T03:00:45.854237Z"
    }
   },
   "outputs": [
    {
     "data": {
      "text/plain": [
       "'12        '"
      ]
     },
     "execution_count": 35,
     "metadata": {},
     "output_type": "execute_result"
    }
   ],
   "source": [
    "# 6. format을 이용한 정렬\n",
    "\n",
    "\"{0:<10}\" .format(\"12\") # 왼쪽 정렬"
   ]
  },
  {
   "cell_type": "code",
   "execution_count": 36,
   "metadata": {
    "ExecuteTime": {
     "end_time": "2019-08-01T03:00:47.680703Z",
     "start_time": "2019-08-01T03:00:47.677706Z"
    }
   },
   "outputs": [
    {
     "data": {
      "text/plain": [
       "'        34'"
      ]
     },
     "execution_count": 36,
     "metadata": {},
     "output_type": "execute_result"
    }
   ],
   "source": [
    "\"{0:>10}\" .format(\"34\") # 오른쪽 정렬\n"
   ]
  },
  {
   "cell_type": "code",
   "execution_count": 37,
   "metadata": {
    "ExecuteTime": {
     "end_time": "2019-08-01T03:00:50.426622Z",
     "start_time": "2019-08-01T03:00:50.421636Z"
    }
   },
   "outputs": [
    {
     "data": {
      "text/plain": [
       "'    56    '"
      ]
     },
     "execution_count": 37,
     "metadata": {},
     "output_type": "execute_result"
    }
   ],
   "source": [
    "\"{0:^10}\" .format(\"56\") # 가운데 정렬"
   ]
  },
  {
   "cell_type": "code",
   "execution_count": 38,
   "metadata": {
    "ExecuteTime": {
     "end_time": "2019-08-01T03:01:00.649964Z",
     "start_time": "2019-08-01T03:01:00.645974Z"
    }
   },
   "outputs": [
    {
     "data": {
      "text/plain": [
       "'78========'"
      ]
     },
     "execution_count": 38,
     "metadata": {},
     "output_type": "execute_result"
    }
   ],
   "source": [
    "\"{0:=<10}\" .format(\"78\") # 공백채우기 : 공백을 정렬문자(<,>) 앞에 선언된 기호로 채움 "
   ]
  },
  {
   "cell_type": "code",
   "execution_count": 39,
   "metadata": {
    "ExecuteTime": {
     "end_time": "2019-08-01T03:01:15.665453Z",
     "start_time": "2019-08-01T03:01:15.661428Z"
    }
   },
   "outputs": [
    {
     "data": {
      "text/plain": [
       "'!!!!!!!!90'"
      ]
     },
     "execution_count": 39,
     "metadata": {},
     "output_type": "execute_result"
    }
   ],
   "source": [
    "\"{0:!>10}\" .format(\"90\") # 공백채우기 : 공백을 정렬문자(<,>) 앞에 선언된 기호로 채움 "
   ]
  },
  {
   "cell_type": "code",
   "execution_count": 40,
   "metadata": {
    "ExecuteTime": {
     "end_time": "2019-08-01T03:02:43.946022Z",
     "start_time": "2019-08-01T03:02:43.942033Z"
    }
   },
   "outputs": [
    {
     "data": {
      "text/plain": [
       "'{and}'"
      ]
     },
     "execution_count": 40,
     "metadata": {},
     "output_type": "execute_result"
    }
   ],
   "source": [
    "# 중괄호 를 문자로 표현하기\n",
    "\n",
    "\"{{and}}\".format()"
   ]
  },
  {
   "cell_type": "markdown",
   "metadata": {},
   "source": [
    "- f 문자열 포매팅 : python 3.6 버전이상 지원\n",
    "\n",
    "문자열 앞에 f 접두사를 붙이면 f 문자열 포매팅 기능을 사용할 수 있다.  \n",
    "미리 선언된 변수 값을 참조하여 사용 할 수 있다.  "
   ]
  },
  {
   "cell_type": "code",
   "execution_count": 41,
   "metadata": {
    "ExecuteTime": {
     "end_time": "2019-08-01T03:05:05.026537Z",
     "start_time": "2019-08-01T03:05:05.021550Z"
    }
   },
   "outputs": [
    {
     "data": {
      "text/plain": [
       "'나의 이름은 이동민 이다. 나이는 27살 입니다.'"
      ]
     },
     "execution_count": 41,
     "metadata": {},
     "output_type": "execute_result"
    }
   ],
   "source": [
    "name = '이동민'\n",
    "age=27\n",
    "f\"나의 이름은 {name} 이다. 나이는 {age}살 입니다.\""
   ]
  },
  {
   "cell_type": "code",
   "execution_count": 43,
   "metadata": {
    "ExecuteTime": {
     "end_time": "2019-08-01T03:07:44.696551Z",
     "start_time": "2019-08-01T03:07:44.693556Z"
    }
   },
   "outputs": [
    {
     "data": {
      "text/plain": [
       "'나의이름은  이동민 입니다. 나이는 27살 입니다'"
      ]
     },
     "execution_count": 43,
     "metadata": {},
     "output_type": "execute_result"
    }
   ],
   "source": [
    "# 딕셔너리로 쉽게 사용하는 법 => 문자열 안에서 {딕셔너리_명['key']}\n",
    "dic_info={'name':'이동민', 'age':27}\n",
    "f\"나의이름은 {dic_info['name']} 입니다. 나이는 {dic_info['age']}살 입니다\""
   ]
  },
  {
   "cell_type": "code",
   "execution_count": 47,
   "metadata": {
    "ExecuteTime": {
     "end_time": "2019-08-01T03:09:58.320853Z",
     "start_time": "2019-08-01T03:09:58.316834Z"
    }
   },
   "outputs": [
    {
     "data": {
      "text/plain": [
       "'hi        '"
      ]
     },
     "execution_count": 47,
     "metadata": {},
     "output_type": "execute_result"
    }
   ],
   "source": [
    "# 정렬\n",
    "f'{\"hi\":<10}' # 왼쪽 정렬"
   ]
  },
  {
   "cell_type": "code",
   "execution_count": 48,
   "metadata": {
    "ExecuteTime": {
     "end_time": "2019-08-01T03:10:15.329475Z",
     "start_time": "2019-08-01T03:10:15.325483Z"
    }
   },
   "outputs": [
    {
     "data": {
      "text/plain": [
       "'        hi'"
      ]
     },
     "execution_count": 48,
     "metadata": {},
     "output_type": "execute_result"
    }
   ],
   "source": [
    "f'{\"hi\":>10}' # 오른쪽 정렬"
   ]
  },
  {
   "cell_type": "code",
   "execution_count": 49,
   "metadata": {
    "ExecuteTime": {
     "end_time": "2019-08-01T03:10:32.688822Z",
     "start_time": "2019-08-01T03:10:32.685826Z"
    }
   },
   "outputs": [
    {
     "data": {
      "text/plain": [
       "'    hi    '"
      ]
     },
     "execution_count": 49,
     "metadata": {},
     "output_type": "execute_result"
    }
   ],
   "source": [
    "f'{\"hi\":^10}' # 가운데 정렬"
   ]
  },
  {
   "cell_type": "markdown",
   "metadata": {},
   "source": []
  }
 ],
 "metadata": {
  "kernelspec": {
   "display_name": "Python 3",
   "language": "python",
   "name": "python3"
  },
  "language_info": {
   "codemirror_mode": {
    "name": "ipython",
    "version": 3
   },
   "file_extension": ".py",
   "mimetype": "text/x-python",
   "name": "python",
   "nbconvert_exporter": "python",
   "pygments_lexer": "ipython3",
   "version": "3.6.4"
  },
  "toc": {
   "base_numbering": 1,
   "nav_menu": {},
   "number_sections": true,
   "sideBar": true,
   "skip_h1_title": false,
   "title_cell": "Table of Contents",
   "title_sidebar": "Contents",
   "toc_cell": false,
   "toc_position": {},
   "toc_section_display": true,
   "toc_window_display": false
  },
  "varInspector": {
   "cols": {
    "lenName": 16,
    "lenType": 16,
    "lenVar": 40
   },
   "kernels_config": {
    "python": {
     "delete_cmd_postfix": "",
     "delete_cmd_prefix": "del ",
     "library": "var_list.py",
     "varRefreshCmd": "print(var_dic_list())"
    },
    "r": {
     "delete_cmd_postfix": ") ",
     "delete_cmd_prefix": "rm(",
     "library": "var_list.r",
     "varRefreshCmd": "cat(var_dic_list()) "
    }
   },
   "types_to_exclude": [
    "module",
    "function",
    "builtin_function_or_method",
    "instance",
    "_Feature"
   ],
   "window_display": false
  }
 },
 "nbformat": 4,
 "nbformat_minor": 2
}
